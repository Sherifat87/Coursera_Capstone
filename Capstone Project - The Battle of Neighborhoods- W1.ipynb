{
    "cells": [
        {
            "metadata": {},
            "cell_type": "markdown",
            "source": "# Construction / Purchasing of Apartment Complex in Toronto, Canada"
        },
        {
            "metadata": {},
            "cell_type": "markdown",
            "source": "## By Sherifat Shitu Ross (Data Scientist)"
        },
        {
            "metadata": {},
            "cell_type": "markdown",
            "source": "### March 13, 2021"
        },
        {
            "metadata": {},
            "cell_type": "markdown",
            "source": "\n### Background and Business Problem"
        },
        {
            "metadata": {
                "collapsed": true
            },
            "cell_type": "markdown",
            "source": "**Background**\nEvery one in three newcomers to Canada settles down in Southern Ontario. Toronto attracts them the most. They go there expecting better lives and job opportunities. It homes 9 million people, one-quarter of Canada\u2019s whole population. As the country\u2019s No. 1 economic engine, this area generates two-thirds of Ontario\u2019s and one-quarter of Canada\u2019s Gross Domestic Product. the Toronto metropolitan area, witnesses the biggest income gap in Canada, the most affluent families are paid nearly 14 times more than those at the bottom.\nToronto, the most populated area in the country with the most diverse demographics racially and financially, has a convoluted pattern. Observing its map is like looking at the colored church stained glasses. The city has the most pronounced income discrepancy in the whole region. The ten richest neighborhoods all locate in Toronto\n\n**Business Problem**\nAs a result of the increasing population, income prospect and disparity in Toronto, there has been a significant increase in demand for construction of apartments in the real estate sector. The question then becomes where is the best area in Toronto to situate an apartment complex so as to maximize profit as per income of residence.\nPer capita income of areas in Toronto differs in great numbers, therefore location is very paramont to the success of any apartment property.\nThe purpose of this study is to determine the best area to situate an apartment property/ complex in relation to the percapital income of the areas in Toronto.\n"
        },
        {
            "metadata": {},
            "cell_type": "markdown",
            "source": "### Target Audience"
        },
        {
            "metadata": {},
            "cell_type": "markdown",
            "source": "This report targets individuals, companies and real estate people interested in the construction and purchase of apartments complex in Toronto, Canada for the purpose of maximising profit."
        },
        {
            "metadata": {},
            "cell_type": "markdown",
            "source": "### Data Sources and Sites"
        },
        {
            "metadata": {},
            "cell_type": "markdown",
            "source": "Various data sources and sites are:\n\n1) **Canada Postalcode Data**\nThe data includes Postal code, Borough and Neigbourhood in Canada. Toronto would be extracted from the list and cleaned/processed for this analysis.\n('https://en.wikipedia.org/wiki/List_of_postal_codes_of_Canada:_M')\n\n2) **geospatial data**\nThis data includes postalcode, longitude and latitude. ('https://cocl.us/Geospatial_data')\nThe two data would be merged into one data and will be used for this analysis\n\n3) **Toronto percapital income in 2016 census - Map**\nThis map divides Toronto on household income bases. (http://www.datalabto.ca/incomes/)\n\n4) **Foursquare API** \nFoursquare is the most trusted, independent location data platform. It provides location based experience with diverse information about revenue users, photos and check-ins. The foursquare would be used in this analysis to explore locations arround toronto necessary for the best outcome of this analysis. (https://developer.foursquare.com/)\n"
        }
    ],
    "metadata": {
        "kernelspec": {
            "name": "python3",
            "display_name": "Python 3.7",
            "language": "python"
        },
        "language_info": {
            "name": "python",
            "version": "3.7.10",
            "mimetype": "text/x-python",
            "codemirror_mode": {
                "name": "ipython",
                "version": 3
            },
            "pygments_lexer": "ipython3",
            "nbconvert_exporter": "python",
            "file_extension": ".py"
        }
    },
    "nbformat": 4,
    "nbformat_minor": 1
}