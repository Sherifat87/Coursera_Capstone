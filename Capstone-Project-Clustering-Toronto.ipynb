{
    "cells": [
        {
            "metadata": {},
            "cell_type": "markdown",
            "source": "# Segmenting and Clustering Neighbourhoods in Toronto\n"
        },
        {
            "metadata": {},
            "cell_type": "markdown",
            "source": "## This project includes data from Wikipedia page for the postal codes of Canada and then process and clean the data for the clustering. \n## K Means is used for clustering and the clusters are plotted using the Folium Library. First 'Toronto' is plotted, clustered and plotted in the last map."
        },
        {
            "metadata": {},
            "cell_type": "code",
            "source": "#importing libraries needed!\n\nimport numpy as np # library to handle data in a vectorized manner\n\nimport pandas as pd # library for data analsysis\npd.set_option('display.max_columns', None)\npd.set_option('display.max_rows', None)\n\nimport json # library to handle JSON files\n\n!conda install -c conda-forge geopy --yes # uncomment this line if you haven't completed the Foursquare API lab\nfrom geopy.geocoders import Nominatim # convert an address into latitude and longitude values\n\nimport requests # library to handle requests\nfrom pandas.io.json import json_normalize # tranform JSON file into a pandas dataframe\n\n# Matplotlib and associated plotting modules\nimport matplotlib.cm as cm\nimport matplotlib.colors as colors\n\n# import k-means from clustering stage\n!pip install scikit-learn==0.23.1\nfrom sklearn.cluster import KMeans\n\n!conda install -c conda-forge folium=0.5.0 --yes # uncomment this line if you haven't completed the Foursquare API lab\nimport folium # map rendering library\n\nprint('Libraries imported.')",
            "execution_count": 5,
            "outputs": [
                {
                    "output_type": "stream",
                    "text": "Collecting package metadata (current_repodata.json): done\nSolving environment: - \nThe environment is inconsistent, please check the package plan carefully\nThe following packages are causing the inconsistency:\n\n  - defaults/noarch::ibm-wsrt-py37main-keep==0.0.0=1937\n  - conda-forge/linux-64::pytorch==1.8.0=cpu_py37hafa7651_0\n  - defaults/noarch::ibm-wsrt-py37main-main==custom=1937\ndone\n\n# All requested packages already installed.\n\nRequirement already satisfied: scikit-learn==0.23.1 in /opt/conda/envs/Python-3.7-main/lib/python3.7/site-packages (0.23.1)\nRequirement already satisfied: numpy>=1.13.3 in /opt/conda/envs/Python-3.7-main/lib/python3.7/site-packages (from scikit-learn==0.23.1) (1.20.1)\nRequirement already satisfied: joblib>=0.11 in /opt/conda/envs/Python-3.7-main/lib/python3.7/site-packages (from scikit-learn==0.23.1) (1.0.1)\nRequirement already satisfied: scipy>=0.19.1 in /opt/conda/envs/Python-3.7-main/lib/python3.7/site-packages (from scikit-learn==0.23.1) (1.5.3)\nRequirement already satisfied: threadpoolctl>=2.0.0 in /opt/conda/envs/Python-3.7-main/lib/python3.7/site-packages (from scikit-learn==0.23.1) (2.1.0)\nCollecting package metadata (current_repodata.json): done\nSolving environment: - \nThe environment is inconsistent, please check the package plan carefully\nThe following packages are causing the inconsistency:\n\n  - defaults/noarch::ibm-wsrt-py37main-keep==0.0.0=1937\n  - conda-forge/linux-64::pytorch==1.8.0=cpu_py37hafa7651_0\n  - defaults/noarch::ibm-wsrt-py37main-main==custom=1937\ndone\n\n# All requested packages already installed.\n\nLibraries imported.\n",
                    "name": "stdout"
                }
            ]
        },
        {
            "metadata": {},
            "cell_type": "markdown",
            "source": "### Data from Wikipedia page for the list postal codes of Canada"
        },
        {
            "metadata": {},
            "cell_type": "code",
            "source": "!wget -q -O 'canada_data.json' https://en.wikipedia.org/wiki/List_of_postal_codes_of_Canada:_M\nprint('Data downloaded!')",
            "execution_count": 15,
            "outputs": [
                {
                    "output_type": "stream",
                    "text": "Data downloaded!\n",
                    "name": "stdout"
                }
            ]
        },
        {
            "metadata": {},
            "cell_type": "code",
            "source": "df = pd.read_html('https://en.wikipedia.org/wiki/List_of_postal_codes_of_Canada:_M')[0]",
            "execution_count": 9,
            "outputs": []
        },
        {
            "metadata": {},
            "cell_type": "code",
            "source": "df.shape",
            "execution_count": 46,
            "outputs": [
                {
                    "output_type": "execute_result",
                    "execution_count": 46,
                    "data": {
                        "text/plain": "(180, 3)"
                    },
                    "metadata": {}
                }
            ]
        },
        {
            "metadata": {},
            "cell_type": "code",
            "source": "df.columns",
            "execution_count": 10,
            "outputs": [
                {
                    "output_type": "execute_result",
                    "execution_count": 10,
                    "data": {
                        "text/plain": "Index(['Postal Code', 'Borough', 'Neighbourhood'], dtype='object')"
                    },
                    "metadata": {}
                }
            ]
        },
        {
            "metadata": {},
            "cell_type": "markdown",
            "source": "### Data Processing and Cleaning of the list of postal codes of canada data"
        },
        {
            "metadata": {},
            "cell_type": "code",
            "source": "df = df[df['Borough']!='Not assigned']  \n",
            "execution_count": 11,
            "outputs": []
        },
        {
            "metadata": {},
            "cell_type": "code",
            "source": "print(df.head())",
            "execution_count": 12,
            "outputs": [
                {
                    "output_type": "stream",
                    "text": "  Postal Code           Borough                                Neighbourhood\n2         M3A        North York                                    Parkwoods\n3         M4A        North York                             Victoria Village\n4         M5A  Downtown Toronto                    Regent Park, Harbourfront\n5         M6A        North York             Lawrence Manor, Lawrence Heights\n6         M7A  Downtown Toronto  Queen's Park, Ontario Provincial Government\n",
                    "name": "stdout"
                }
            ]
        },
        {
            "metadata": {},
            "cell_type": "code",
            "source": "df.shape",
            "execution_count": 55,
            "outputs": [
                {
                    "output_type": "execute_result",
                    "execution_count": 55,
                    "data": {
                        "text/plain": "(103, 3)"
                    },
                    "metadata": {}
                }
            ]
        },
        {
            "metadata": {},
            "cell_type": "code",
            "source": "df['Neighbourhood'].loc[df['Neighbourhood'] == 'Not assigned'] =  df.Borough",
            "execution_count": 13,
            "outputs": []
        },
        {
            "metadata": {},
            "cell_type": "code",
            "source": "df.shape",
            "execution_count": 14,
            "outputs": [
                {
                    "output_type": "execute_result",
                    "execution_count": 14,
                    "data": {
                        "text/plain": "(103, 3)"
                    },
                    "metadata": {}
                }
            ]
        },
        {
            "metadata": {},
            "cell_type": "markdown",
            "source": "### Data from csv file of geospatial data"
        },
        {
            "metadata": {},
            "cell_type": "code",
            "source": "\ndf_geo = pd.read_csv('https://cocl.us/Geospatial_data')                ",
            "execution_count": 15,
            "outputs": []
        },
        {
            "metadata": {},
            "cell_type": "code",
            "source": "print(df_geo.head())",
            "execution_count": 16,
            "outputs": [
                {
                    "output_type": "stream",
                    "text": "  Postal Code   Latitude  Longitude\n0         M1B  43.806686 -79.194353\n1         M1C  43.784535 -79.160497\n2         M1E  43.763573 -79.188711\n3         M1G  43.770992 -79.216917\n4         M1H  43.773136 -79.239476\n",
                    "name": "stdout"
                }
            ]
        },
        {
            "metadata": {},
            "cell_type": "markdown",
            "source": "###  Data Processing and Cleaning of the geospatial data"
        },
        {
            "metadata": {},
            "cell_type": "code",
            "source": "#renameing the postal code columns before mergeing the two tables.\ndf_geo.rename(columns={'Postal Code':'Postcode'},inplace=True)\ndf.rename(columns={'Postal Code':'Postcode'},inplace=True)\nprint(df_geo.head()) ",
            "execution_count": null,
            "outputs": []
        },
        {
            "metadata": {},
            "cell_type": "code",
            "source": "print(df.head())\n",
            "execution_count": 18,
            "outputs": [
                {
                    "output_type": "stream",
                    "text": "  Postcode           Borough                                Neighbourhood\n2      M3A        North York                                    Parkwoods\n3      M4A        North York                             Victoria Village\n4      M5A  Downtown Toronto                    Regent Park, Harbourfront\n5      M6A        North York             Lawrence Manor, Lawrence Heights\n6      M7A  Downtown Toronto  Queen's Park, Ontario Provincial Government\n",
                    "name": "stdout"
                }
            ]
        },
        {
            "metadata": {},
            "cell_type": "code",
            "source": "#merging the two tables\ndf2 = pd.merge(df,df_geo, on='Postcode')\nprint(df2.head())\ndf2.shape",
            "execution_count": 19,
            "outputs": [
                {
                    "output_type": "stream",
                    "text": "  Postcode           Borough                                Neighbourhood  \\\n0      M3A        North York                                    Parkwoods   \n1      M4A        North York                             Victoria Village   \n2      M5A  Downtown Toronto                    Regent Park, Harbourfront   \n3      M6A        North York             Lawrence Manor, Lawrence Heights   \n4      M7A  Downtown Toronto  Queen's Park, Ontario Provincial Government   \n\n    Latitude  Longitude  \n0  43.753259 -79.329656  \n1  43.725882 -79.315572  \n2  43.654260 -79.360636  \n3  43.718518 -79.464763  \n4  43.662301 -79.389494  \n",
                    "name": "stdout"
                },
                {
                    "output_type": "execute_result",
                    "execution_count": 19,
                    "data": {
                        "text/plain": "(103, 5)"
                    },
                    "metadata": {}
                }
            ]
        },
        {
            "metadata": {},
            "cell_type": "code",
            "source": "# Choosing borough 'Toronto' \ndf3 = df2[df2['Borough'].str.contains('Toronto',regex=False)]\nprint(df3.head())\nprint(df3.shape)",
            "execution_count": 32,
            "outputs": [
                {
                    "output_type": "stream",
                    "text": "   Postcode           Borough                                Neighbourhood  \\\n2       M5A  Downtown Toronto                    Regent Park, Harbourfront   \n4       M7A  Downtown Toronto  Queen's Park, Ontario Provincial Government   \n9       M5B  Downtown Toronto                     Garden District, Ryerson   \n15      M5C  Downtown Toronto                               St. James Town   \n19      M4E      East Toronto                                  The Beaches   \n\n     Latitude  Longitude  \n2   43.654260 -79.360636  \n4   43.662301 -79.389494  \n9   43.657162 -79.378937  \n15  43.651494 -79.375418  \n19  43.676357 -79.293031  \n(40, 5)\n",
                    "name": "stdout"
                }
            ]
        },
        {
            "metadata": {},
            "cell_type": "markdown",
            "source": "### Displaying the Toronto map using Folium before clustering"
        },
        {
            "metadata": {},
            "cell_type": "code",
            "source": "\n\ntoronto_map = folium.Map(location=[43.651070,-79.347015],zoom_start=10)\n\nfor lat,lng,borough,neighbourhood in zip(df3['Latitude'],df3['Longitude'],df3['Borough'],df3['Neighbourhood']):\n    label = '{}, {}'.format(neighbourhood, borough)\n    label = folium.Popup(label, parse_html=True)\n    folium.CircleMarker(\n    [lat,lng],\n    radius=5,\n    popup=label,\n    color='blue',\n    fill=True,\n    fill_color='#3186cc',\n    fill_opacity=0.7,\n    parse_html=False).add_to(toronto_map)\nprint(toronto_map)",
            "execution_count": 38,
            "outputs": [
                {
                    "output_type": "stream",
                    "text": "<folium.folium.Map object at 0x7f84867c3d50>\n",
                    "name": "stdout"
                }
            ]
        },
        {
            "metadata": {},
            "cell_type": "markdown",
            "source": "### Clustering Toronto using K-means"
        },
        {
            "metadata": {},
            "cell_type": "code",
            "source": "\nk=5\ntoronto_cluster = df3.drop(['Postcode','Borough','Neighbourhood'],1)\nkmeans = KMeans(n_clusters = k,random_state=0).fit(toronto_cluster)\nkmeans.labels_\n",
            "execution_count": 33,
            "outputs": [
                {
                    "output_type": "execute_result",
                    "execution_count": 33,
                    "data": {
                        "text/plain": "array([3, 3, 3, 3, 2, 3, 3, 4, 3, 4, 3, 4, 2, 3, 4, 2, 3, 2, 0, 0, 1, 0,\n       0, 1, 0, 4, 1, 0, 4, 1, 0, 4, 0, 3, 3, 3, 3, 3, 3, 2], dtype=int32)"
                    },
                    "metadata": {}
                }
            ]
        },
        {
            "metadata": {},
            "cell_type": "code",
            "source": "df3.insert(0, 'Cluster Labels', kmeans.labels_)",
            "execution_count": 34,
            "outputs": []
        },
        {
            "metadata": {},
            "cell_type": "markdown",
            "source": "### Displaying the Toronto map using Folium after clustering with K-means"
        },
        {
            "metadata": {},
            "cell_type": "code",
            "source": "map_clusters = folium.Map(location=[43.651070,-79.347015],zoom_start=10)\n\n# set color scheme for the clusters\nx = np.arange(k)\nys = [i + x + (i*x)**2 for i in range(k)]\ncolors_array = cm.rainbow(np.linspace(0, 1, len(ys)))\nrainbow = [colors.rgb2hex(i) for i in colors_array]\n\n# add markers to the map\nmarkers_colors = []\nfor lat, lon, neighbourhood, cluster in zip(df3['Latitude'], df3['Longitude'], df3['Neighbourhood'], df3['Cluster Labels']):\n    label = folium.Popup(' Cluster ' + str(cluster), parse_html=True)\n    folium.CircleMarker(\n        [lat, lon],\n        radius=5,\n        popup=label,\n        color=rainbow[cluster-1],\n        fill=True,\n        fill_color=rainbow[cluster-1],\n        fill_opacity=0.7).add_to(map_clusters)\n       \nprint(map_clusters)",
            "execution_count": 35,
            "outputs": [
                {
                    "output_type": "stream",
                    "text": "<folium.folium.Map object at 0x7f848683a050>\n",
                    "name": "stdout"
                }
            ]
        },
        {
            "metadata": {},
            "cell_type": "markdown",
            "source": "#### Please note the map may not display on github"
        }
    ],
    "metadata": {
        "kernelspec": {
            "name": "python3",
            "display_name": "Python 3.7",
            "language": "python"
        },
        "language_info": {
            "name": "python",
            "version": "3.7.10",
            "mimetype": "text/x-python",
            "codemirror_mode": {
                "name": "ipython",
                "version": 3
            },
            "pygments_lexer": "ipython3",
            "nbconvert_exporter": "python",
            "file_extension": ".py"
        }
    },
    "nbformat": 4,
    "nbformat_minor": 1
}